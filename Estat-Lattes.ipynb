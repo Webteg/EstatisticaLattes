{
 "cells": [
  {
   "cell_type": "code",
   "execution_count": 5,
   "metadata": {},
   "outputs": [],
   "source": [
    "import urllib.request\n",
    "import os\n",
    "import zipfile\n",
    "import csv\n",
    "import pygal\n",
    "import lxml\n",
    "import pygal_maps_world"
   ]
  },
  {
   "cell_type": "code",
   "execution_count": 2,
   "metadata": {},
   "outputs": [],
   "source": [
    "# lista para receber o arquivo numero_identificador_lattes_zzzz.csv\n",
    "identificador_list_cvs = list()\n",
    "# dicionario para receber o arquivo tab_area_conhecimento_zzzz.csv\n",
    "area_dict_csv = {}\n",
    "# dicionario para receber o arquivo tab_nivel_formacao_zzzz.csv\n",
    "nivel_formacao_dict_csv = {}"
   ]
  },
  {
   "cell_type": "code",
   "execution_count": 3,
   "metadata": {},
   "outputs": [
    {
     "name": "stdout",
     "output_type": "stream",
     "text": [
      "URL lattes: http://memoria.cnpq.br/documents/313759/6935115b-a5e8-4cfb-96cf-00e2fd11c96c\n"
     ]
    }
   ],
   "source": [
    "# url dos arquivos da plataforma lattes, disponivel em:  http://memoria.cnpq.br/web/portal-lattes/extracoes-de-dados\n",
    "url = \"http://memoria.cnpq.br/documents/313759/6935115b-a5e8-4cfb-96cf-00e2fd11c96c\"\n",
    "print(\"URL lattes: \" + url)"
   ]
  },
  {
   "cell_type": "code",
   "execution_count": 7,
   "metadata": {},
   "outputs": [
    {
     "name": "stdout",
     "output_type": "stream",
     "text": [
      "Arquivo de download destino: /Users/eduardofelipe/lattes.zip\n"
     ]
    }
   ],
   "source": [
    "# definicao do arquivo destino na maquina do usuario\n",
    "arquivo_lattes = os.path.expanduser(\"~/lattes.zip\")\n",
    "print(\"Arquivo de download destino: \" + arquivo_lattes)"
   ]
  },
  {
   "cell_type": "code",
   "execution_count": 8,
   "metadata": {},
   "outputs": [
    {
     "name": "stdout",
     "output_type": "stream",
     "text": [
      "Diretório de trabalho local: /Users/eduardofelipe\n"
     ]
    }
   ],
   "source": [
    "dir_destino = os.path.dirname(arquivo_lattes)\n",
    "print(\"Diretório de trabalho local: \" + dir_destino)"
   ]
  },
  {
   "cell_type": "code",
   "execution_count": 9,
   "metadata": {},
   "outputs": [
    {
     "name": "stdout",
     "output_type": "stream",
     "text": [
      "Iniciando download do arquivo na plataforma lattes. Processo demorado...\n",
      "Download concluído: /Users/eduardofelipe/lattes.zip\n"
     ]
    }
   ],
   "source": [
    "print(\"Iniciando download do arquivo na plataforma lattes. Processo demorado...\")\n",
    "urllib.request.urlretrieve(url, arquivo_lattes)\n",
    "print(\"Download concluído: \" + arquivo_lattes)"
   ]
  },
  {
   "cell_type": "code",
   "execution_count": 10,
   "metadata": {},
   "outputs": [
    {
     "name": "stdout",
     "output_type": "stream",
     "text": [
      "Descompactando o arquivo ZIP... \n",
      "Arquivos da plataforma lattes extraídos em: /Users/eduardofelipe\n"
     ]
    }
   ],
   "source": [
    "print(\"Descompactando o arquivo ZIP... \")\n",
    "with zipfile.ZipFile(arquivo_lattes, \"r\") as zip_ref:\n",
    "    zip_ref.extractall(dir_destino)\n",
    "print(\"Arquivos da plataforma lattes extraídos em: \" + dir_destino)"
   ]
  },
  {
   "cell_type": "code",
   "execution_count": 11,
   "metadata": {},
   "outputs": [],
   "source": [
    "def importa_csv_para_lista(arq):\n",
    "    print(\"Importando o arquivo: \" + arq + \" para estrutura de dados em memória a fim de permitir análise.\")\n",
    "    with open(arq, 'r', encoding='latin-1') as f:\n",
    "        reader = csv.reader(f, delimiter=';')\n",
    "        lista = list(reader)\n",
    "    print(\"Importação do arquivo: \" + arq + \" para a memória concluída.\")\n",
    "    return lista"
   ]
  },
  {
   "cell_type": "code",
   "execution_count": 12,
   "metadata": {},
   "outputs": [],
   "source": [
    "def importa_csv_para_dicionario(arq):\n",
    "    print(\"Importando o arquivo: \" + arq + \" para estrutura de dados em memória a fim de permitir análise.\")\n",
    "    dicionario = {}\n",
    "    reader = csv.reader(open(arq, 'r', encoding='latin-1'))\n",
    "    for row in reader:\n",
    "        aux_linha = row[0]\n",
    "        aux_linha_str = aux_linha.split(\";\")\n",
    "        chave = aux_linha_str[0]\n",
    "        valor = aux_linha_str[1]\n",
    "        dicionario[chave] = valor\n",
    "    print(\"Importação do arquivo: \" + arq + \" para a memória concluída.\")\n",
    "    return dicionario"
   ]
  },
  {
   "cell_type": "code",
   "execution_count": 13,
   "metadata": {},
   "outputs": [
    {
     "name": "stdout",
     "output_type": "stream",
     "text": [
      "Importando o arquivo: /Users/eduardofelipe/numero_identificador_lattes_20170708.csv para estrutura de dados em memória a fim de permitir análise.\n",
      "Importação do arquivo: /Users/eduardofelipe/numero_identificador_lattes_20170708.csv para a memória concluída.\n",
      "Importando o arquivo: /Users/eduardofelipe/tab_nivel_formacao_20170708.csv para estrutura de dados em memória a fim de permitir análise.\n",
      "Importação do arquivo: /Users/eduardofelipe/tab_nivel_formacao_20170708.csv para a memória concluída.\n",
      "Importando o arquivo: /Users/eduardofelipe/tab_area_conhecimento_20170708.csv para estrutura de dados em memória a fim de permitir análise.\n",
      "Importação do arquivo: /Users/eduardofelipe/tab_area_conhecimento_20170708.csv para a memória concluída.\n"
     ]
    }
   ],
   "source": [
    "for file in os.listdir(dir_destino):\n",
    "    if file.endswith(\".csv\"):\n",
    "        if file.startswith(\"numero_identificador_lattes\"):\n",
    "            identificador_arq = os.path.join(dir_destino, file)\n",
    "            identificador_list_cvs = importa_csv_para_lista(identificador_arq)\n",
    "\n",
    "        if file.startswith(\"tab_area_conhecimento\"):\n",
    "            area_arq = os.path.join(dir_destino, file)\n",
    "            area_dict_csv = importa_csv_para_dicionario(area_arq)\n",
    "\n",
    "        if file.startswith(\"tab_nivel_formacao\"):\n",
    "            nivel_arq = os.path.join(dir_destino, file)\n",
    "            nivel_formacao_dict_csv = importa_csv_para_dicionario(nivel_arq)\n"
   ]
  },
  {
   "cell_type": "code",
   "execution_count": 14,
   "metadata": {},
   "outputs": [],
   "source": [
    "# o algoritmo deve varrer a lista do identificador que eh o arquivo principal\n",
    "# analisar cada linha do arquivo e trabalhar com geraçao estatistica\n",
    "# em estruturas de dados em python, denominadas dicionario\n",
    "\n",
    "nacionalidade_dict = {}\n",
    "area_conhecimento_dict = {}\n",
    "nivel_formacao_dict = {}\n",
    "\n",
    "i = 1\n",
    "valor = 0\n",
    "while i < len(identificador_list_cvs):\n",
    "    # le a linha\n",
    "    aux_linha = identificador_list_cvs[i]\n",
    "    # e extrai as strings para cada estatistica\n",
    "    aux_nacionalidade = aux_linha[1]\n",
    "    aux_area = aux_linha[3]\n",
    "    aux_nivel = aux_linha[4]\n",
    "\n",
    "    # trata a estatistica da nacionalidade\n",
    "    valor_nacionalidade = nacionalidade_dict.get(aux_nacionalidade)\n",
    "    if valor_nacionalidade is None:\n",
    "        nacionalidade_dict[aux_nacionalidade] = 1\n",
    "    else:\n",
    "        valor_nacionalidade = valor_nacionalidade + 1\n",
    "        nacionalidade_dict[aux_nacionalidade] = valor_nacionalidade\n",
    "\n",
    "    # trata a estatistica da area de conhecimento\n",
    "    valor_area = area_conhecimento_dict.get(aux_area)\n",
    "    if valor_area is None:\n",
    "        area_conhecimento_dict[aux_area] = 1\n",
    "    else:\n",
    "        valor_area = valor_area + 1\n",
    "        area_conhecimento_dict[aux_area] = valor_area\n",
    "\n",
    "    # trata a estatistica do nivel de formacao\n",
    "    valor_nivel = nivel_formacao_dict.get(aux_nivel)\n",
    "    if valor_nivel is None:\n",
    "        nivel_formacao_dict[aux_nivel] = 1\n",
    "    else:\n",
    "        valor_nivel = valor_nivel + 1\n",
    "        nivel_formacao_dict[aux_nivel] = valor_nivel\n",
    "\n",
    "    i = i + 1\n"
   ]
  },
  {
   "cell_type": "code",
   "execution_count": 15,
   "metadata": {},
   "outputs": [],
   "source": [
    "# tratar os dicionarios para estruturas de listas\n",
    "# a fim de permitir ordenacao e gerar graficos de melhor leitura\n",
    "nacionalidade_list = list()\n",
    "nacionalidade_list = sorted(nacionalidade_dict.items(), key = lambda x: x[1], reverse=True )\n",
    "\n",
    "area_list = list()\n",
    "area_list = sorted(area_conhecimento_dict.items(), key = lambda x: x[1], reverse=True)\n",
    "\n",
    "nivel_formacao_list = list()\n",
    "nivel_formacao_list = sorted(nivel_formacao_dict.items(), key = lambda x: x[1], reverse=True)\n"
   ]
  },
  {
   "cell_type": "code",
   "execution_count": 16,
   "metadata": {},
   "outputs": [
    {
     "name": "stdout",
     "output_type": "stream",
     "text": [
      "file:///var/folders/s_/lcnjnb_n1zx8nsb881vyh26r0000gn/T/tmp28x52r8k.html\n"
     ]
    }
   ],
   "source": [
    "# ######################################################\n",
    "# GRAFICOS\n",
    "# gerar o grafico de barras de pesquisadores estrageiros\n",
    "nacionalidade_chart = pygal.HorizontalBar()\n",
    "nacionalidade_chart.title = 'Pesquisadores estrangeiros cadastrados na Plataforma Lattes'\n",
    "i = 0\n",
    "while i < len(nacionalidade_list):\n",
    "    aux_linha = nacionalidade_list[i]\n",
    "    aux_nacionalidade = aux_linha[0]\n",
    "    valor_nacionalidade = aux_linha[1]\n",
    "    if aux_nacionalidade != \"BRA\":\n",
    "        nacionalidade_chart.add(aux_nacionalidade, valor_nacionalidade)\n",
    "    i = i + 1\n",
    "nacionalidade_chart.render_in_browser()\n"
   ]
  },
  {
   "cell_type": "code",
   "execution_count": 17,
   "metadata": {},
   "outputs": [
    {
     "name": "stdout",
     "output_type": "stream",
     "text": [
      "file:///var/folders/s_/lcnjnb_n1zx8nsb881vyh26r0000gn/T/tmplubfwdf4.html\n"
     ]
    }
   ],
   "source": [
    "# gerar o grafico/mapa de pesquisadores por paises (incluindo Brasil desta vez)\n",
    "worldmap_chart = pygal.maps.world.World()\n",
    "worldmap_chart.title = 'Pesquisadores cadastrados na plataforma Lattes - por países.'\n",
    "worldmap_chart.add('Mês/Ano', {\n",
    "  'af': 14,\n",
    "  'bd': 1,\n",
    "  'by': 3,\n",
    "  'cn': 1000,\n",
    "  'gm': 9,\n",
    "  'in': 1,\n",
    "  'ir': 314,\n",
    "  'iq': 129,\n",
    "  'jp': 7\n",
    "})\n",
    "worldmap_chart.render_in_browser()"
   ]
  },
  {
   "cell_type": "code",
   "execution_count": 18,
   "metadata": {},
   "outputs": [
    {
     "name": "stdout",
     "output_type": "stream",
     "text": [
      "file:///var/folders/s_/lcnjnb_n1zx8nsb881vyh26r0000gn/T/tmpj9bn_3db.html\n"
     ]
    }
   ],
   "source": [
    "# gerar o grafico de area de atuaçao\n",
    "area_chart = pygal.HorizontalBar()\n",
    "area_chart.title = \"Área de atuação dos pesquisadores\"\n",
    "i = 0\n",
    "while i < len(area_list):\n",
    "    aux_linha = area_list[i]\n",
    "    aux_area = aux_linha[0]\n",
    "    aux_area_extenso = area_dict_csv.get(aux_area)\n",
    "    valor_area = aux_linha[1]\n",
    "    if bool(aux_area_extenso and aux_area_extenso.strip()):\n",
    "        area_chart.add(aux_area_extenso, valor_area)\n",
    "    i = i + 1\n",
    "area_chart.render_in_browser()"
   ]
  },
  {
   "cell_type": "code",
   "execution_count": 19,
   "metadata": {},
   "outputs": [
    {
     "name": "stdout",
     "output_type": "stream",
     "text": [
      "file:///var/folders/s_/lcnjnb_n1zx8nsb881vyh26r0000gn/T/tmpoeccqshv.html\n"
     ]
    }
   ],
   "source": [
    "# gerar o grafico de nivel de formacao\n",
    "nivel_formacao_chart = pygal.HorizontalBar()\n",
    "nivel_formacao_chart.title = \"Nível de formação dos pesquisadores\"\n",
    "i = 0\n",
    "while i < len(nivel_formacao_list):\n",
    "    aux_linha = nivel_formacao_list[i]\n",
    "    aux_nivel = aux_linha[0]\n",
    "    if (bool(aux_nivel and aux_nivel.strip())):\n",
    "        aux_nivel_extenso = nivel_formacao_dict_csv.get(aux_nivel)\n",
    "    else:\n",
    "        aux_nivel_extenso = \"Não informado\"\n",
    "    valor_nivel = aux_linha[1]\n",
    "    nivel_formacao_chart.add(aux_nivel_extenso, valor_nivel)\n",
    "    i = i + 1\n",
    "nivel_formacao_chart.render_in_browser()"
   ]
  },
  {
   "cell_type": "code",
   "execution_count": 21,
   "metadata": {},
   "outputs": [
    {
     "name": "stdout",
     "output_type": "stream",
     "text": [
      "Excluindo o arquivo: /Users/eduardofelipe/lattes.zip após a descompactação.\n",
      "Excluindo o arquivo: /Users/eduardofelipe/numero_identificador_lattes_20170708.csv\n",
      "Excluindo o arquivo: /Users/eduardofelipe/tab_area_conhecimento_20170708.csv\n",
      "Excluindo o arquivo: /Users/eduardofelipe/tab_nivel_formacao_20170708.csv\n"
     ]
    }
   ],
   "source": [
    "\n",
    "# excluir os arquivos de download no final do processo\n",
    "print(\"Excluindo o arquivo: \" + arquivo_lattes + \" após a descompactação.\")\n",
    "#os.remove(file_name)\n",
    "print(\"Excluindo o arquivo: \" + identificador_arq)\n",
    "#os.remove(arquivo_identificador)\n",
    "print(\"Excluindo o arquivo: \" + area_arq)\n",
    "#os.remove(arquivo_area)\n",
    "print(\"Excluindo o arquivo: \" + nivel_arq)\n",
    "#os.remove(arquivo_nivel)\n"
   ]
  },
  {
   "cell_type": "code",
   "execution_count": null,
   "metadata": {},
   "outputs": [],
   "source": []
  }
 ],
 "metadata": {
  "kernelspec": {
   "display_name": "Python 3",
   "language": "python",
   "name": "python3"
  },
  "language_info": {
   "codemirror_mode": {
    "name": "ipython",
    "version": 3
   },
   "file_extension": ".py",
   "mimetype": "text/x-python",
   "name": "python",
   "nbconvert_exporter": "python",
   "pygments_lexer": "ipython3",
   "version": "3.6.2"
  }
 },
 "nbformat": 4,
 "nbformat_minor": 1
}
