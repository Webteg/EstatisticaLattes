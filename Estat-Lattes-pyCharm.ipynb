{
 "cells": [
  {
   "cell_type": "code",
   "execution_count": 5,
   "metadata": {},
   "outputs": [],
   "source": [
    "import urllib.request\n",
    "import os\n",
    "import zipfile\n",
    "import csv\n",
    "import pygal\n",
    "import lxml\n",
    "import pygal_maps_world"
   ]
  },
  {
   "cell_type": "code",
   "execution_count": 2,
   "metadata": {},
   "outputs": [],
   "source": [
    "# lista para receber o arquivo numero_identificador_lattes_zzzz.csv\n",
    "identificador_list_cvs = list()\n",
    "# dicionario para receber o arquivo tab_area_conhecimento_zzzz.csv\n",
    "area_dict_csv = {}\n",
    "# dicionario para receber o arquivo tab_nivel_formacao_zzzz.csv\n",
    "nivel_formacao_dict_csv = {}"
   ]
  },
  {
   "cell_type": "code",
   "execution_count": 3,
   "metadata": {},
   "outputs": [
    {
     "name": "stdout",
     "output_type": "stream",
     "text": [
      "URL lattes: http://memoria.cnpq.br/documents/313759/6935115b-a5e8-4cfb-96cf-00e2fd11c96c\n"
     ]
    }
   ],
   "source": [
    "# url dos arquivos da plataforma lattes, disponivel em:  http://memoria.cnpq.br/web/portal-lattes/extracoes-de-dados\n",
    "url = \"http://memoria.cnpq.br/documents/313759/6935115b-a5e8-4cfb-96cf-00e2fd11c96c\"\n",
    "print(\"URL lattes: \" + url)"
   ]
  },
  {
   "cell_type": "code",
   "execution_count": 6,
   "metadata": {},
   "outputs": [],
   "source": [
    "# definicao do arquivo destino na maquina do usuario\n",
    "arquivo_lattes = os.path.expanduser(\"~/lattes.zip\")"
   ]
  },
  {
   "cell_type": "code",
   "execution_count": null,
   "metadata": {},
   "outputs": [],
   "source": []
  }
 ],
 "metadata": {
  "kernelspec": {
   "display_name": "Python 3",
   "language": "python",
   "name": "python3"
  },
  "language_info": {
   "codemirror_mode": {
    "name": "ipython",
    "version": 3
   },
   "file_extension": ".py",
   "mimetype": "text/x-python",
   "name": "python",
   "nbconvert_exporter": "python",
   "pygments_lexer": "ipython3",
   "version": "3.6.2"
  }
 },
 "nbformat": 4,
 "nbformat_minor": 1
}
